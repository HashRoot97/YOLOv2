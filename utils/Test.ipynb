{
 "cells": [
  {
   "cell_type": "code",
   "execution_count": 33,
   "metadata": {},
   "outputs": [],
   "source": [
    "import tensorflow as tf\n",
    "import numpy as np\n",
    "from matplotlib import pyplot as plt\n",
    "import pandas as pd\n",
    "import threading"
   ]
  },
  {
   "cell_type": "code",
   "execution_count": 3,
   "metadata": {},
   "outputs": [],
   "source": [
    "def bytes_features(values):\n",
    "    return tf.train.Feature(bytes_list=tf.train.BytesList([values]))"
   ]
  },
  {
   "cell_type": "code",
   "execution_count": 5,
   "metadata": {},
   "outputs": [
    {
     "data": {
      "text/html": [
       "<div>\n",
       "<style scoped>\n",
       "    .dataframe tbody tr th:only-of-type {\n",
       "        vertical-align: middle;\n",
       "    }\n",
       "\n",
       "    .dataframe tbody tr th {\n",
       "        vertical-align: top;\n",
       "    }\n",
       "\n",
       "    .dataframe thead th {\n",
       "        text-align: right;\n",
       "    }\n",
       "</style>\n",
       "<table border=\"1\" class=\"dataframe\">\n",
       "  <thead>\n",
       "    <tr style=\"text-align: right;\">\n",
       "      <th></th>\n",
       "      <th>ImageLOC</th>\n",
       "      <th>ROI</th>\n",
       "      <th>Classes</th>\n",
       "    </tr>\n",
       "  </thead>\n",
       "  <tbody>\n",
       "    <tr>\n",
       "      <th>0</th>\n",
       "      <td>./../ResizedJPEGImages/0.jpg</td>\n",
       "      <td>[[ 82 126 324 290]  [ 92   1 348 157]]</td>\n",
       "      <td>[cat chair]</td>\n",
       "    </tr>\n",
       "    <tr>\n",
       "      <th>1</th>\n",
       "      <td>./../ResizedJPEGImages/1.jpg</td>\n",
       "      <td>[[339  39 399 209]  [111 130 263 385]  [ 14 20...</td>\n",
       "      <td>[tvmonitor person chair]</td>\n",
       "    </tr>\n",
       "    <tr>\n",
       "      <th>2</th>\n",
       "      <td>./../ResizedJPEGImages/2.jpg</td>\n",
       "      <td>[[ 92 212 401 416]  [ 52  79 158 389]  [125 12...</td>\n",
       "      <td>[horse person person person horse]</td>\n",
       "    </tr>\n",
       "    <tr>\n",
       "      <th>3</th>\n",
       "      <td>./../ResizedJPEGImages/3.jpg</td>\n",
       "      <td>[[ 44 163 406 396]]</td>\n",
       "      <td>[bus]</td>\n",
       "    </tr>\n",
       "    <tr>\n",
       "      <th>4</th>\n",
       "      <td>./../ResizedJPEGImages/4.jpg</td>\n",
       "      <td>[[201 147 234 250]  [ 93 217 157 357]  [ 47 13...</td>\n",
       "      <td>[person person car car]</td>\n",
       "    </tr>\n",
       "  </tbody>\n",
       "</table>\n",
       "</div>"
      ],
      "text/plain": [
       "                       ImageLOC  \\\n",
       "0  ./../ResizedJPEGImages/0.jpg   \n",
       "1  ./../ResizedJPEGImages/1.jpg   \n",
       "2  ./../ResizedJPEGImages/2.jpg   \n",
       "3  ./../ResizedJPEGImages/3.jpg   \n",
       "4  ./../ResizedJPEGImages/4.jpg   \n",
       "\n",
       "                                                 ROI  \\\n",
       "0             [[ 82 126 324 290]  [ 92   1 348 157]]   \n",
       "1  [[339  39 399 209]  [111 130 263 385]  [ 14 20...   \n",
       "2  [[ 92 212 401 416]  [ 52  79 158 389]  [125 12...   \n",
       "3                                [[ 44 163 406 396]]   \n",
       "4  [[201 147 234 250]  [ 93 217 157 357]  [ 47 13...   \n",
       "\n",
       "                              Classes  \n",
       "0                         [cat chair]  \n",
       "1            [tvmonitor person chair]  \n",
       "2  [horse person person person horse]  \n",
       "3                               [bus]  \n",
       "4             [person person car car]  "
      ]
     },
     "execution_count": 5,
     "metadata": {},
     "output_type": "execute_result"
    }
   ],
   "source": [
    "df = pd.read_csv('../data.csv')\n",
    "df.head()"
   ]
  },
  {
   "cell_type": "code",
   "execution_count": 6,
   "metadata": {},
   "outputs": [],
   "source": [
    "def convert_numpy():\n",
    "    a = df['ROI'][:]\n",
    "    for i in range(df['ROI'].shape[0]):   \n",
    "        b = a[i].replace('[', '')\n",
    "        b = b.replace(']', '')\n",
    "        b = np.fromstring(b, dtype=int, sep=' ')\n",
    "        l = len(b)\n",
    "        l = l/4\n",
    "        b = np.split(b, l)\n",
    "        b = np.asarray(b)\n",
    "        df['ROI'][i] = b\n",
    "\n",
    "    \n",
    "convert_numpy()"
   ]
  },
  {
   "cell_type": "code",
   "execution_count": 7,
   "metadata": {},
   "outputs": [],
   "source": [
    "def convert_class():\n",
    "    for i in range(df['Classes'].shape[0]):\n",
    "        cls = []\n",
    "        cls_ = df['Classes'][i]\n",
    "        cls_ = cls_.replace('[', '')\n",
    "        cls_ = cls_.replace(']', '')\n",
    "        cls = cls_.split(' ')\n",
    "        df['Classes'][i] = cls\n",
    "\n",
    "convert_class()"
   ]
  },
  {
   "cell_type": "code",
   "execution_count": 27,
   "metadata": {},
   "outputs": [],
   "source": [
    "filenames = df['ImageLOC']\n",
    "rois = df['ROI']\n",
    "classes = df['Classes']\n",
    "num_threads = 4\n",
    "num_shards = 10\n",
    "anchors = [[0.57273, 0.677385], [1.87446, 2.06253], [3.33843, 5.47434], [7.88282, 3.52778], [9.77052, 9.16828]]\n",
    "num_anchors = 5"
   ]
  },
  {
   "cell_type": "code",
   "execution_count": 28,
   "metadata": {},
   "outputs": [
    {
     "data": {
      "text/plain": [
       "[[0, 2490], [2490, 4981], [4981, 7472], [7472, 9963]]"
      ]
     },
     "execution_count": 28,
     "metadata": {},
     "output_type": "execute_result"
    }
   ],
   "source": [
    "spacing = np.linspace(0, len(filenames), num_threads+1).astype(np.int)\n",
    "ranges = []\n",
    "for i in range(num_threads):\n",
    "    ranges.append([spacing[i], spacing[i+1]])\n",
    "ranges"
   ]
  },
  {
   "cell_type": "code",
   "execution_count": 29,
   "metadata": {},
   "outputs": [],
   "source": [
    "coord = tf.train.Coordinator()"
   ]
  },
  {
   "cell_type": "code",
   "execution_count": 35,
   "metadata": {},
   "outputs": [],
   "source": [
    "def load_batch(name, thread_idx, ranges, filenames, clas, rois, num_shards, num_threads, anchors, num_anchors):\n",
    "    num_shards_per_thread = int(num_shards/num_threads)\n",
    "    shard_ranges = np.linspace()\n",
    "    "
   ]
  },
  {
   "cell_type": "code",
   "execution_count": 36,
   "metadata": {},
   "outputs": [
    {
     "name": "stdout",
     "output_type": "stream",
     "text": [
      "11\n",
      "\n",
      "1\n",
      "1\n"
     ]
    }
   ],
   "source": [
    "name = 'train'\n",
    "threads = []\n",
    "for thread_idx in range(num_threads):\n",
    "    args = (name, thread_idx, ranges, filenames, clas, rois, num_shards, num_threads, anchors, num_anchors)\n",
    "    t = threading.Thread(target=load_batch, args=args)\n",
    "    t.start()\n",
    "    threads.append(t)\n",
    "coord.join(threads)"
   ]
  },
  {
   "cell_type": "code",
   "execution_count": null,
   "metadata": {},
   "outputs": [],
   "source": []
  },
  {
   "cell_type": "code",
   "execution_count": null,
   "metadata": {},
   "outputs": [],
   "source": []
  }
 ],
 "metadata": {
  "kernelspec": {
   "display_name": "Python 3",
   "language": "python",
   "name": "python3"
  },
  "language_info": {
   "codemirror_mode": {
    "name": "ipython",
    "version": 3
   },
   "file_extension": ".py",
   "mimetype": "text/x-python",
   "name": "python",
   "nbconvert_exporter": "python",
   "pygments_lexer": "ipython3",
   "version": "3.5.2"
  }
 },
 "nbformat": 4,
 "nbformat_minor": 2
}
